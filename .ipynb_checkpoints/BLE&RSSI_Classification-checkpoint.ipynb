{
 "cells": [
  {
   "cell_type": "code",
   "execution_count": 1,
   "metadata": {},
   "outputs": [],
   "source": [
    "import pandas as pd\n",
    "import matplotlib.pyplot as plt\n",
    "import seaborn as sns\n",
    "%matplotlib inline"
   ]
  },
  {
   "cell_type": "code",
   "execution_count": null,
   "metadata": {},
   "outputs": [],
   "source": [
    "from sklearn.model_selection import train_test_split\n",
    "from sklearn.metrics import make_scorer\n",
    "from sklearn.svm import SVC\n",
    "from sklearn.ensemble import RandomForestClassifier\n",
    "from sklearn.tree import DecisionTreeClassifier"
   ]
  },
  {
   "cell_type": "code",
   "execution_count": 3,
   "metadata": {},
   "outputs": [],
   "source": [
    "csv_data = pd.read_csv(\"iBeacon_RSSI_Labeled.csv\")"
   ]
  },
  {
   "cell_type": "code",
   "execution_count": 4,
   "metadata": {},
   "outputs": [
    {
     "data": {
      "text/plain": [
       "K04    34\n",
       "J04    32\n",
       "J06    29\n",
       "I06    27\n",
       "I07    27\n",
       "J07    27\n",
       "I08    26\n",
       "K05    25\n",
       "O04    24\n",
       "O05    24\n",
       "J03    24\n",
       "Q05    24\n",
       "S01    23\n",
       "K03    23\n",
       "J02    22\n",
       "K06    22\n",
       "L06    22\n",
       "S02    21\n",
       "I02    21\n",
       "M06    20\n",
       "S06    20\n",
       "L04    20\n",
       "S05    20\n",
       "I03    19\n",
       "M04    19\n",
       "I05    19\n",
       "J05    19\n",
       "I01    18\n",
       "Q03    18\n",
       "Q04    18\n",
       "       ..\n",
       "U05     8\n",
       "U01     8\n",
       "I09     8\n",
       "O02     8\n",
       "P06     8\n",
       "V15     8\n",
       "P15     7\n",
       "T15     7\n",
       "D13     6\n",
       "J10     6\n",
       "Q01     6\n",
       "P02     6\n",
       "R06     6\n",
       "K01     6\n",
       "L01     6\n",
       "T03     6\n",
       "U15     5\n",
       "I15     5\n",
       "G15     4\n",
       "F08     4\n",
       "Q06     4\n",
       "Q02     4\n",
       "E15     4\n",
       "S08     4\n",
       "T01     4\n",
       "D14     4\n",
       "L08     3\n",
       "S15     3\n",
       "O01     2\n",
       "L09     2\n",
       "Name: location, Length: 105, dtype: int64"
      ]
     },
     "execution_count": 4,
     "metadata": {},
     "output_type": "execute_result"
    }
   ],
   "source": [
    "csv_data.location.value_counts()"
   ]
  },
  {
   "cell_type": "code",
   "execution_count": 5,
   "metadata": {},
   "outputs": [
    {
     "data": {
      "text/html": [
       "<div>\n",
       "<style scoped>\n",
       "    .dataframe tbody tr th:only-of-type {\n",
       "        vertical-align: middle;\n",
       "    }\n",
       "\n",
       "    .dataframe tbody tr th {\n",
       "        vertical-align: top;\n",
       "    }\n",
       "\n",
       "    .dataframe thead th {\n",
       "        text-align: right;\n",
       "    }\n",
       "</style>\n",
       "<table border=\"1\" class=\"dataframe\">\n",
       "  <thead>\n",
       "    <tr style=\"text-align: right;\">\n",
       "      <th></th>\n",
       "      <th>b3001</th>\n",
       "      <th>b3002</th>\n",
       "      <th>b3003</th>\n",
       "      <th>b3004</th>\n",
       "      <th>b3005</th>\n",
       "      <th>b3006</th>\n",
       "      <th>b3007</th>\n",
       "      <th>b3008</th>\n",
       "      <th>b3009</th>\n",
       "      <th>b3010</th>\n",
       "      <th>b3011</th>\n",
       "      <th>b3012</th>\n",
       "      <th>b3013</th>\n",
       "    </tr>\n",
       "  </thead>\n",
       "  <tbody>\n",
       "    <tr>\n",
       "      <th>count</th>\n",
       "      <td>1420.000000</td>\n",
       "      <td>1420.000000</td>\n",
       "      <td>1420.000000</td>\n",
       "      <td>1420.000000</td>\n",
       "      <td>1420.000000</td>\n",
       "      <td>1420.000000</td>\n",
       "      <td>1420.000000</td>\n",
       "      <td>1420.000000</td>\n",
       "      <td>1420.000000</td>\n",
       "      <td>1420.000000</td>\n",
       "      <td>1420.000000</td>\n",
       "      <td>1420.000000</td>\n",
       "      <td>1420.000000</td>\n",
       "    </tr>\n",
       "    <tr>\n",
       "      <th>mean</th>\n",
       "      <td>-197.825352</td>\n",
       "      <td>-156.623944</td>\n",
       "      <td>-175.533099</td>\n",
       "      <td>-164.534507</td>\n",
       "      <td>-178.378169</td>\n",
       "      <td>-175.063380</td>\n",
       "      <td>-195.637324</td>\n",
       "      <td>-191.970423</td>\n",
       "      <td>-197.145070</td>\n",
       "      <td>-197.442254</td>\n",
       "      <td>-197.748592</td>\n",
       "      <td>-197.233803</td>\n",
       "      <td>-196.065493</td>\n",
       "    </tr>\n",
       "    <tr>\n",
       "      <th>std</th>\n",
       "      <td>16.259105</td>\n",
       "      <td>60.217747</td>\n",
       "      <td>49.452958</td>\n",
       "      <td>56.523261</td>\n",
       "      <td>47.175799</td>\n",
       "      <td>49.596627</td>\n",
       "      <td>22.880980</td>\n",
       "      <td>30.733742</td>\n",
       "      <td>19.160207</td>\n",
       "      <td>17.741632</td>\n",
       "      <td>16.852535</td>\n",
       "      <td>18.541088</td>\n",
       "      <td>22.053924</td>\n",
       "    </tr>\n",
       "    <tr>\n",
       "      <th>min</th>\n",
       "      <td>-200.000000</td>\n",
       "      <td>-200.000000</td>\n",
       "      <td>-200.000000</td>\n",
       "      <td>-200.000000</td>\n",
       "      <td>-200.000000</td>\n",
       "      <td>-200.000000</td>\n",
       "      <td>-200.000000</td>\n",
       "      <td>-200.000000</td>\n",
       "      <td>-200.000000</td>\n",
       "      <td>-200.000000</td>\n",
       "      <td>-200.000000</td>\n",
       "      <td>-200.000000</td>\n",
       "      <td>-200.000000</td>\n",
       "    </tr>\n",
       "    <tr>\n",
       "      <th>25%</th>\n",
       "      <td>-200.000000</td>\n",
       "      <td>-200.000000</td>\n",
       "      <td>-200.000000</td>\n",
       "      <td>-200.000000</td>\n",
       "      <td>-200.000000</td>\n",
       "      <td>-200.000000</td>\n",
       "      <td>-200.000000</td>\n",
       "      <td>-200.000000</td>\n",
       "      <td>-200.000000</td>\n",
       "      <td>-200.000000</td>\n",
       "      <td>-200.000000</td>\n",
       "      <td>-200.000000</td>\n",
       "      <td>-200.000000</td>\n",
       "    </tr>\n",
       "    <tr>\n",
       "      <th>50%</th>\n",
       "      <td>-200.000000</td>\n",
       "      <td>-200.000000</td>\n",
       "      <td>-200.000000</td>\n",
       "      <td>-200.000000</td>\n",
       "      <td>-200.000000</td>\n",
       "      <td>-200.000000</td>\n",
       "      <td>-200.000000</td>\n",
       "      <td>-200.000000</td>\n",
       "      <td>-200.000000</td>\n",
       "      <td>-200.000000</td>\n",
       "      <td>-200.000000</td>\n",
       "      <td>-200.000000</td>\n",
       "      <td>-200.000000</td>\n",
       "    </tr>\n",
       "    <tr>\n",
       "      <th>75%</th>\n",
       "      <td>-200.000000</td>\n",
       "      <td>-78.000000</td>\n",
       "      <td>-200.000000</td>\n",
       "      <td>-80.000000</td>\n",
       "      <td>-200.000000</td>\n",
       "      <td>-200.000000</td>\n",
       "      <td>-200.000000</td>\n",
       "      <td>-200.000000</td>\n",
       "      <td>-200.000000</td>\n",
       "      <td>-200.000000</td>\n",
       "      <td>-200.000000</td>\n",
       "      <td>-200.000000</td>\n",
       "      <td>-200.000000</td>\n",
       "    </tr>\n",
       "    <tr>\n",
       "      <th>max</th>\n",
       "      <td>-67.000000</td>\n",
       "      <td>-59.000000</td>\n",
       "      <td>-56.000000</td>\n",
       "      <td>-56.000000</td>\n",
       "      <td>-60.000000</td>\n",
       "      <td>-62.000000</td>\n",
       "      <td>-58.000000</td>\n",
       "      <td>-56.000000</td>\n",
       "      <td>-55.000000</td>\n",
       "      <td>-61.000000</td>\n",
       "      <td>-59.000000</td>\n",
       "      <td>-60.000000</td>\n",
       "      <td>-59.000000</td>\n",
       "    </tr>\n",
       "  </tbody>\n",
       "</table>\n",
       "</div>"
      ],
      "text/plain": [
       "             b3001        b3002        b3003        b3004        b3005  \\\n",
       "count  1420.000000  1420.000000  1420.000000  1420.000000  1420.000000   \n",
       "mean   -197.825352  -156.623944  -175.533099  -164.534507  -178.378169   \n",
       "std      16.259105    60.217747    49.452958    56.523261    47.175799   \n",
       "min    -200.000000  -200.000000  -200.000000  -200.000000  -200.000000   \n",
       "25%    -200.000000  -200.000000  -200.000000  -200.000000  -200.000000   \n",
       "50%    -200.000000  -200.000000  -200.000000  -200.000000  -200.000000   \n",
       "75%    -200.000000   -78.000000  -200.000000   -80.000000  -200.000000   \n",
       "max     -67.000000   -59.000000   -56.000000   -56.000000   -60.000000   \n",
       "\n",
       "             b3006        b3007        b3008        b3009        b3010  \\\n",
       "count  1420.000000  1420.000000  1420.000000  1420.000000  1420.000000   \n",
       "mean   -175.063380  -195.637324  -191.970423  -197.145070  -197.442254   \n",
       "std      49.596627    22.880980    30.733742    19.160207    17.741632   \n",
       "min    -200.000000  -200.000000  -200.000000  -200.000000  -200.000000   \n",
       "25%    -200.000000  -200.000000  -200.000000  -200.000000  -200.000000   \n",
       "50%    -200.000000  -200.000000  -200.000000  -200.000000  -200.000000   \n",
       "75%    -200.000000  -200.000000  -200.000000  -200.000000  -200.000000   \n",
       "max     -62.000000   -58.000000   -56.000000   -55.000000   -61.000000   \n",
       "\n",
       "             b3011        b3012        b3013  \n",
       "count  1420.000000  1420.000000  1420.000000  \n",
       "mean   -197.748592  -197.233803  -196.065493  \n",
       "std      16.852535    18.541088    22.053924  \n",
       "min    -200.000000  -200.000000  -200.000000  \n",
       "25%    -200.000000  -200.000000  -200.000000  \n",
       "50%    -200.000000  -200.000000  -200.000000  \n",
       "75%    -200.000000  -200.000000  -200.000000  \n",
       "max     -59.000000   -60.000000   -59.000000  "
      ]
     },
     "execution_count": 5,
     "metadata": {},
     "output_type": "execute_result"
    }
   ],
   "source": [
    "csv_data.describe()"
   ]
  },
  {
   "cell_type": "code",
   "execution_count": 6,
   "metadata": {},
   "outputs": [],
   "source": [
    "#csv_data = csv_data[csv_data>0].dropna()#缺失值处理（此数据集中的缺失数据是有具体含义的，不能删除）"
   ]
  },
  {
   "cell_type": "code",
   "execution_count": 7,
   "metadata": {},
   "outputs": [],
   "source": [
    "train_data = csv_data.iloc[:, 2:]\n",
    "train_target = csv_data.location"
   ]
  },
  {
   "cell_type": "code",
   "execution_count": 8,
   "metadata": {},
   "outputs": [],
   "source": [
    "x1_train, x1_test, y1_train, y1_test = train_test_split(train_data, train_target, test_size=0.3)"
   ]
  },
  {
   "cell_type": "code",
   "execution_count": 9,
   "metadata": {},
   "outputs": [
    {
     "data": {
      "text/plain": [
       "DecisionTreeClassifier(class_weight=None, criterion='gini', max_depth=None,\n",
       "            max_features=None, max_leaf_nodes=None,\n",
       "            min_impurity_decrease=0.0, min_impurity_split=None,\n",
       "            min_samples_leaf=1, min_samples_split=2,\n",
       "            min_weight_fraction_leaf=0.0, presort=False, random_state=None,\n",
       "            splitter='best')"
      ]
     },
     "execution_count": 9,
     "metadata": {},
     "output_type": "execute_result"
    }
   ],
   "source": [
    "# 决策树算法\n",
    "dt = DecisionTreeClassifier()\n",
    "dt.fit(x1_train, y1_train)"
   ]
  },
  {
   "cell_type": "code",
   "execution_count": 10,
   "metadata": {},
   "outputs": [
    {
     "name": "stdout",
     "output_type": "stream",
     "text": [
      "训练集准确率： 0.6287726358148893\n"
     ]
    }
   ],
   "source": [
    "s1_dt = dt.score(x1_train, y1_train)\n",
    "print(\"训练集准确率：\", s1_dt)"
   ]
  },
  {
   "cell_type": "code",
   "execution_count": 11,
   "metadata": {},
   "outputs": [
    {
     "name": "stdout",
     "output_type": "stream",
     "text": [
      "测试集准确率： 0.29577464788732394\n"
     ]
    }
   ],
   "source": [
    "s2_dt = dt.score(x1_test, y1_test)\n",
    "print(\"测试集准确率：\", s2_dt)"
   ]
  },
  {
   "cell_type": "code",
   "execution_count": 12,
   "metadata": {},
   "outputs": [
    {
     "data": {
      "text/plain": [
       "RandomForestClassifier(bootstrap=True, class_weight=None, criterion='gini',\n",
       "            max_depth=None, max_features='auto', max_leaf_nodes=None,\n",
       "            min_impurity_decrease=0.0, min_impurity_split=None,\n",
       "            min_samples_leaf=1, min_samples_split=2,\n",
       "            min_weight_fraction_leaf=0.0, n_estimators=20, n_jobs=1,\n",
       "            oob_score=True, random_state=None, verbose=0, warm_start=False)"
      ]
     },
     "execution_count": 12,
     "metadata": {},
     "output_type": "execute_result"
    }
   ],
   "source": [
    "# 随机森林算法\n",
    "rf = RandomForestClassifier(n_estimators = 20, oob_score = True)\n",
    "rf.fit(x1_train, y1_train)"
   ]
  },
  {
   "cell_type": "code",
   "execution_count": 13,
   "metadata": {},
   "outputs": [
    {
     "name": "stdout",
     "output_type": "stream",
     "text": [
      "训练集准确率： 0.6247484909456741\n"
     ]
    }
   ],
   "source": [
    "s1_rf = rf.score(x1_train, y1_train)\n",
    "print(\"训练集准确率：\", s1_rf)"
   ]
  },
  {
   "cell_type": "code",
   "execution_count": 14,
   "metadata": {},
   "outputs": [
    {
     "name": "stdout",
     "output_type": "stream",
     "text": [
      "测试集准确率： 0.2934272300469484\n"
     ]
    }
   ],
   "source": [
    "s2_rf = rf.score(x1_test, y1_test)\n",
    "print(\"测试集准确率：\", s2_rf)"
   ]
  },
  {
   "cell_type": "code",
   "execution_count": 15,
   "metadata": {},
   "outputs": [
    {
     "name": "stdout",
     "output_type": "stream",
     "text": [
      "训练集准确率： 0.6287726358148893\n",
      "测试集准确率： 0.33098591549295775\n"
     ]
    }
   ],
   "source": [
    "#求最高准确率\n",
    "s1_rf_ = []\n",
    "s2_rf_ = []\n",
    "for i in range(0, 50):\n",
    "    rf = RandomForestClassifier(n_estimators = 20)\n",
    "    rf.fit(x1_train, y1_train)\n",
    "    s1_rf = rf.score(x1_train, y1_train)\n",
    "    s1_rf_.append(s1_rf)\n",
    "    s2_rf = rf.score(x1_test, y1_test)\n",
    "    s2_rf_.append(s2_rf)\n",
    "print(\"训练集准确率：\", max(s1_rf_))\n",
    "print(\"测试集准确率：\", max(s2_rf_))"
   ]
  },
  {
   "cell_type": "code",
   "execution_count": 16,
   "metadata": {},
   "outputs": [],
   "source": [
    "# SVM算法\n",
    "# rbf核函数，设置数据权重\n",
    "svc = SVC(kernel='rbf', class_weight='balanced')\n",
    "# 训练模型\n",
    "clf = svc.fit(x1_train, y1_train)"
   ]
  },
  {
   "cell_type": "code",
   "execution_count": 17,
   "metadata": {},
   "outputs": [
    {
     "name": "stdout",
     "output_type": "stream",
     "text": [
      "训练集准确率： 0.4818913480885312\n"
     ]
    }
   ],
   "source": [
    "s1_svc = svc.score(x1_train, y1_train)\n",
    "print(\"训练集准确率：\", s1_svc)"
   ]
  },
  {
   "cell_type": "code",
   "execution_count": 18,
   "metadata": {},
   "outputs": [
    {
     "name": "stdout",
     "output_type": "stream",
     "text": [
      "测试集准确率： 0.2746478873239437\n"
     ]
    }
   ],
   "source": [
    "s2_svc = svc.score(x1_test, y1_test)\n",
    "print(\"测试集准确率：\", s2_svc)"
   ]
  },
  {
   "cell_type": "code",
   "execution_count": 19,
   "metadata": {
    "scrolled": true
   },
   "outputs": [
    {
     "name": "stderr",
     "output_type": "stream",
     "text": [
      "C:\\ProgramData\\Anaconda3\\lib\\site-packages\\sklearn\\model_selection\\_split.py:605: Warning: The least populated class in y has only 1 members, which is too few. The minimum number of members in any class cannot be less than n_splits=3.\n",
      "  % (min_groups, self.n_splits)), Warning)\n"
     ]
    },
    {
     "name": "stdout",
     "output_type": "stream",
     "text": [
      "精度为0.2981220657276995\n"
     ]
    }
   ],
   "source": [
    "# 调参优化\n",
    "import numpy as np\n",
    "from sklearn.preprocessing import StandardScaler\n",
    "from sklearn.model_selection import GridSearchCV\n",
    "svc = SVC(kernel='rbf', class_weight='balanced',)\n",
    "c_range = np.logspace(-5, 15, 11, base=2)\n",
    "gamma_range = np.logspace(-9, 3, 13, base=2)\n",
    "# 网格搜索交叉验证的参数范围，cv=3,3折交叉\n",
    "param_grid = [{'kernel': ['rbf'], 'C': c_range, 'gamma': gamma_range}]# 参数列表，表明参数范围\n",
    "grid = GridSearchCV(svc, param_grid, cv=3, n_jobs=-1)# 寻找最优参数，传递给模型\n",
    "# 训练模型\n",
    "clf = grid.fit(x1_train, y1_train)\n",
    "# 计算测试集精度\n",
    "score = grid.score(x1_test, y1_test)\n",
    "print('精度为%s' % score)"
   ]
  },
  {
   "cell_type": "code",
   "execution_count": 35,
   "metadata": {},
   "outputs": [
    {
     "name": "stdout",
     "output_type": "stream",
     "text": [
      "训练集准确率： 0.5523138832997988\n"
     ]
    }
   ],
   "source": [
    "score_train = grid.score(x1_train, y1_train)\n",
    "print(\"训练集准确率：\", score_train)"
   ]
  },
  {
   "cell_type": "code",
   "execution_count": 36,
   "metadata": {},
   "outputs": [
    {
     "name": "stdout",
     "output_type": "stream",
     "text": [
      "测试集准确率： 0.2981220657276995\n"
     ]
    }
   ],
   "source": [
    "score_test = grid.score(x1_test, y1_test)\n",
    "print(\"测试集准确率：\", score_test)"
   ]
  }
 ],
 "metadata": {
  "kernelspec": {
   "display_name": "Python 3",
   "language": "python",
   "name": "python3"
  },
  "language_info": {
   "codemirror_mode": {
    "name": "ipython",
    "version": 3
   },
   "file_extension": ".py",
   "mimetype": "text/x-python",
   "name": "python",
   "nbconvert_exporter": "python",
   "pygments_lexer": "ipython3",
   "version": "3.6.5"
  }
 },
 "nbformat": 4,
 "nbformat_minor": 2
}
