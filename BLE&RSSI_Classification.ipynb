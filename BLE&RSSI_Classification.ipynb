{
 "cells": [
  {
   "cell_type": "code",
   "execution_count": 1,
   "metadata": {},
   "outputs": [],
   "source": [
    "import pandas as pd\n",
    "import matplotlib.pyplot as plt\n",
    "import seaborn as sns\n",
    "%matplotlib inline"
   ]
  },
  {
   "cell_type": "code",
   "execution_count": 2,
   "metadata": {},
   "outputs": [],
   "source": [
    "from sklearn.model_selection import train_test_split\n",
    "from sklearn.metrics import make_scorer\n",
    "from sklearn.svm import SVC\n",
    "from sklearn.ensemble import RandomForestClassifier\n",
    "from sklearn.tree import DecisionTreeClassifier"
   ]
  },
  {
   "cell_type": "code",
   "execution_count": 3,
   "metadata": {},
   "outputs": [],
   "source": [
    "csv_data = pd.read_csv(\"iBeacon_RSSI_Labeled.csv\")"
   ]
  },
  {
   "cell_type": "code",
   "execution_count": 4,
   "metadata": {},
   "outputs": [
    {
     "data": {
      "text/plain": [
       "K04    34\n",
       "J04    32\n",
       "J06    29\n",
       "J07    27\n",
       "I07    27\n",
       "I06    27\n",
       "I08    26\n",
       "K05    25\n",
       "Q05    24\n",
       "O05    24\n",
       "J03    24\n",
       "O04    24\n",
       "S01    23\n",
       "K03    23\n",
       "K06    22\n",
       "J02    22\n",
       "L06    22\n",
       "S02    21\n",
       "I02    21\n",
       "M06    20\n",
       "L04    20\n",
       "S06    20\n",
       "S05    20\n",
       "M04    19\n",
       "J05    19\n",
       "I05    19\n",
       "I03    19\n",
       "Q03    18\n",
       "Q04    18\n",
       "I04    18\n",
       "       ..\n",
       "J15     8\n",
       "U05     8\n",
       "P06     8\n",
       "I09     8\n",
       "V15     8\n",
       "O02     8\n",
       "T15     7\n",
       "P15     7\n",
       "Q01     6\n",
       "J10     6\n",
       "D13     6\n",
       "P02     6\n",
       "T03     6\n",
       "L01     6\n",
       "R06     6\n",
       "K01     6\n",
       "U15     5\n",
       "I15     5\n",
       "F08     4\n",
       "T01     4\n",
       "S08     4\n",
       "G15     4\n",
       "Q02     4\n",
       "D14     4\n",
       "Q06     4\n",
       "E15     4\n",
       "L08     3\n",
       "S15     3\n",
       "O01     2\n",
       "L09     2\n",
       "Name: location, Length: 105, dtype: int64"
      ]
     },
     "execution_count": 4,
     "metadata": {},
     "output_type": "execute_result"
    }
   ],
   "source": [
    "csv_data.location.value_counts()"
   ]
  },
  {
   "cell_type": "code",
   "execution_count": 5,
   "metadata": {},
   "outputs": [
    {
     "data": {
      "text/html": [
       "<div>\n",
       "<style scoped>\n",
       "    .dataframe tbody tr th:only-of-type {\n",
       "        vertical-align: middle;\n",
       "    }\n",
       "\n",
       "    .dataframe tbody tr th {\n",
       "        vertical-align: top;\n",
       "    }\n",
       "\n",
       "    .dataframe thead th {\n",
       "        text-align: right;\n",
       "    }\n",
       "</style>\n",
       "<table border=\"1\" class=\"dataframe\">\n",
       "  <thead>\n",
       "    <tr style=\"text-align: right;\">\n",
       "      <th></th>\n",
       "      <th>b3001</th>\n",
       "      <th>b3002</th>\n",
       "      <th>b3003</th>\n",
       "      <th>b3004</th>\n",
       "      <th>b3005</th>\n",
       "      <th>b3006</th>\n",
       "      <th>b3007</th>\n",
       "      <th>b3008</th>\n",
       "      <th>b3009</th>\n",
       "      <th>b3010</th>\n",
       "      <th>b3011</th>\n",
       "      <th>b3012</th>\n",
       "      <th>b3013</th>\n",
       "    </tr>\n",
       "  </thead>\n",
       "  <tbody>\n",
       "    <tr>\n",
       "      <th>count</th>\n",
       "      <td>1420.000000</td>\n",
       "      <td>1420.000000</td>\n",
       "      <td>1420.000000</td>\n",
       "      <td>1420.000000</td>\n",
       "      <td>1420.000000</td>\n",
       "      <td>1420.000000</td>\n",
       "      <td>1420.000000</td>\n",
       "      <td>1420.000000</td>\n",
       "      <td>1420.000000</td>\n",
       "      <td>1420.000000</td>\n",
       "      <td>1420.000000</td>\n",
       "      <td>1420.000000</td>\n",
       "      <td>1420.000000</td>\n",
       "    </tr>\n",
       "    <tr>\n",
       "      <th>mean</th>\n",
       "      <td>-197.825352</td>\n",
       "      <td>-156.623944</td>\n",
       "      <td>-175.533099</td>\n",
       "      <td>-164.534507</td>\n",
       "      <td>-178.378169</td>\n",
       "      <td>-175.063380</td>\n",
       "      <td>-195.637324</td>\n",
       "      <td>-191.970423</td>\n",
       "      <td>-197.145070</td>\n",
       "      <td>-197.442254</td>\n",
       "      <td>-197.748592</td>\n",
       "      <td>-197.233803</td>\n",
       "      <td>-196.065493</td>\n",
       "    </tr>\n",
       "    <tr>\n",
       "      <th>std</th>\n",
       "      <td>16.259105</td>\n",
       "      <td>60.217747</td>\n",
       "      <td>49.452958</td>\n",
       "      <td>56.523261</td>\n",
       "      <td>47.175799</td>\n",
       "      <td>49.596627</td>\n",
       "      <td>22.880980</td>\n",
       "      <td>30.733742</td>\n",
       "      <td>19.160207</td>\n",
       "      <td>17.741632</td>\n",
       "      <td>16.852535</td>\n",
       "      <td>18.541088</td>\n",
       "      <td>22.053924</td>\n",
       "    </tr>\n",
       "    <tr>\n",
       "      <th>min</th>\n",
       "      <td>-200.000000</td>\n",
       "      <td>-200.000000</td>\n",
       "      <td>-200.000000</td>\n",
       "      <td>-200.000000</td>\n",
       "      <td>-200.000000</td>\n",
       "      <td>-200.000000</td>\n",
       "      <td>-200.000000</td>\n",
       "      <td>-200.000000</td>\n",
       "      <td>-200.000000</td>\n",
       "      <td>-200.000000</td>\n",
       "      <td>-200.000000</td>\n",
       "      <td>-200.000000</td>\n",
       "      <td>-200.000000</td>\n",
       "    </tr>\n",
       "    <tr>\n",
       "      <th>25%</th>\n",
       "      <td>-200.000000</td>\n",
       "      <td>-200.000000</td>\n",
       "      <td>-200.000000</td>\n",
       "      <td>-200.000000</td>\n",
       "      <td>-200.000000</td>\n",
       "      <td>-200.000000</td>\n",
       "      <td>-200.000000</td>\n",
       "      <td>-200.000000</td>\n",
       "      <td>-200.000000</td>\n",
       "      <td>-200.000000</td>\n",
       "      <td>-200.000000</td>\n",
       "      <td>-200.000000</td>\n",
       "      <td>-200.000000</td>\n",
       "    </tr>\n",
       "    <tr>\n",
       "      <th>50%</th>\n",
       "      <td>-200.000000</td>\n",
       "      <td>-200.000000</td>\n",
       "      <td>-200.000000</td>\n",
       "      <td>-200.000000</td>\n",
       "      <td>-200.000000</td>\n",
       "      <td>-200.000000</td>\n",
       "      <td>-200.000000</td>\n",
       "      <td>-200.000000</td>\n",
       "      <td>-200.000000</td>\n",
       "      <td>-200.000000</td>\n",
       "      <td>-200.000000</td>\n",
       "      <td>-200.000000</td>\n",
       "      <td>-200.000000</td>\n",
       "    </tr>\n",
       "    <tr>\n",
       "      <th>75%</th>\n",
       "      <td>-200.000000</td>\n",
       "      <td>-78.000000</td>\n",
       "      <td>-200.000000</td>\n",
       "      <td>-80.000000</td>\n",
       "      <td>-200.000000</td>\n",
       "      <td>-200.000000</td>\n",
       "      <td>-200.000000</td>\n",
       "      <td>-200.000000</td>\n",
       "      <td>-200.000000</td>\n",
       "      <td>-200.000000</td>\n",
       "      <td>-200.000000</td>\n",
       "      <td>-200.000000</td>\n",
       "      <td>-200.000000</td>\n",
       "    </tr>\n",
       "    <tr>\n",
       "      <th>max</th>\n",
       "      <td>-67.000000</td>\n",
       "      <td>-59.000000</td>\n",
       "      <td>-56.000000</td>\n",
       "      <td>-56.000000</td>\n",
       "      <td>-60.000000</td>\n",
       "      <td>-62.000000</td>\n",
       "      <td>-58.000000</td>\n",
       "      <td>-56.000000</td>\n",
       "      <td>-55.000000</td>\n",
       "      <td>-61.000000</td>\n",
       "      <td>-59.000000</td>\n",
       "      <td>-60.000000</td>\n",
       "      <td>-59.000000</td>\n",
       "    </tr>\n",
       "  </tbody>\n",
       "</table>\n",
       "</div>"
      ],
      "text/plain": [
       "             b3001        b3002        b3003        b3004        b3005  \\\n",
       "count  1420.000000  1420.000000  1420.000000  1420.000000  1420.000000   \n",
       "mean   -197.825352  -156.623944  -175.533099  -164.534507  -178.378169   \n",
       "std      16.259105    60.217747    49.452958    56.523261    47.175799   \n",
       "min    -200.000000  -200.000000  -200.000000  -200.000000  -200.000000   \n",
       "25%    -200.000000  -200.000000  -200.000000  -200.000000  -200.000000   \n",
       "50%    -200.000000  -200.000000  -200.000000  -200.000000  -200.000000   \n",
       "75%    -200.000000   -78.000000  -200.000000   -80.000000  -200.000000   \n",
       "max     -67.000000   -59.000000   -56.000000   -56.000000   -60.000000   \n",
       "\n",
       "             b3006        b3007        b3008        b3009        b3010  \\\n",
       "count  1420.000000  1420.000000  1420.000000  1420.000000  1420.000000   \n",
       "mean   -175.063380  -195.637324  -191.970423  -197.145070  -197.442254   \n",
       "std      49.596627    22.880980    30.733742    19.160207    17.741632   \n",
       "min    -200.000000  -200.000000  -200.000000  -200.000000  -200.000000   \n",
       "25%    -200.000000  -200.000000  -200.000000  -200.000000  -200.000000   \n",
       "50%    -200.000000  -200.000000  -200.000000  -200.000000  -200.000000   \n",
       "75%    -200.000000  -200.000000  -200.000000  -200.000000  -200.000000   \n",
       "max     -62.000000   -58.000000   -56.000000   -55.000000   -61.000000   \n",
       "\n",
       "             b3011        b3012        b3013  \n",
       "count  1420.000000  1420.000000  1420.000000  \n",
       "mean   -197.748592  -197.233803  -196.065493  \n",
       "std      16.852535    18.541088    22.053924  \n",
       "min    -200.000000  -200.000000  -200.000000  \n",
       "25%    -200.000000  -200.000000  -200.000000  \n",
       "50%    -200.000000  -200.000000  -200.000000  \n",
       "75%    -200.000000  -200.000000  -200.000000  \n",
       "max     -59.000000   -60.000000   -59.000000  "
      ]
     },
     "execution_count": 5,
     "metadata": {},
     "output_type": "execute_result"
    }
   ],
   "source": [
    "csv_data.describe()"
   ]
  },
  {
   "cell_type": "code",
   "execution_count": 6,
   "metadata": {},
   "outputs": [
    {
     "data": {
      "text/html": [
       "<div>\n",
       "<style scoped>\n",
       "    .dataframe tbody tr th:only-of-type {\n",
       "        vertical-align: middle;\n",
       "    }\n",
       "\n",
       "    .dataframe tbody tr th {\n",
       "        vertical-align: top;\n",
       "    }\n",
       "\n",
       "    .dataframe thead th {\n",
       "        text-align: right;\n",
       "    }\n",
       "</style>\n",
       "<table border=\"1\" class=\"dataframe\">\n",
       "  <thead>\n",
       "    <tr style=\"text-align: right;\">\n",
       "      <th></th>\n",
       "      <th>date</th>\n",
       "      <th>b3001</th>\n",
       "      <th>b3002</th>\n",
       "      <th>b3003</th>\n",
       "      <th>b3004</th>\n",
       "      <th>b3005</th>\n",
       "      <th>b3006</th>\n",
       "      <th>b3007</th>\n",
       "      <th>b3008</th>\n",
       "      <th>b3009</th>\n",
       "      <th>b3010</th>\n",
       "      <th>b3011</th>\n",
       "      <th>b3012</th>\n",
       "      <th>b3013</th>\n",
       "    </tr>\n",
       "  </thead>\n",
       "  <tbody>\n",
       "    <tr>\n",
       "      <th>count</th>\n",
       "      <td>1.420000e+03</td>\n",
       "      <td>1420.000000</td>\n",
       "      <td>1420.000000</td>\n",
       "      <td>1420.000000</td>\n",
       "      <td>1420.000000</td>\n",
       "      <td>1420.000000</td>\n",
       "      <td>1420.000000</td>\n",
       "      <td>1420.000000</td>\n",
       "      <td>1420.000000</td>\n",
       "      <td>1420.000000</td>\n",
       "      <td>1420.000000</td>\n",
       "      <td>1420.000000</td>\n",
       "      <td>1420.000000</td>\n",
       "      <td>1420.000000</td>\n",
       "    </tr>\n",
       "    <tr>\n",
       "      <th>mean</th>\n",
       "      <td>1.470867e+09</td>\n",
       "      <td>-197.825352</td>\n",
       "      <td>-156.623944</td>\n",
       "      <td>-175.533099</td>\n",
       "      <td>-164.534507</td>\n",
       "      <td>-178.378169</td>\n",
       "      <td>-175.063380</td>\n",
       "      <td>-195.637324</td>\n",
       "      <td>-191.970423</td>\n",
       "      <td>-197.145070</td>\n",
       "      <td>-197.442254</td>\n",
       "      <td>-197.748592</td>\n",
       "      <td>-197.233803</td>\n",
       "      <td>-196.065493</td>\n",
       "    </tr>\n",
       "    <tr>\n",
       "      <th>std</th>\n",
       "      <td>6.710595e+06</td>\n",
       "      <td>16.259105</td>\n",
       "      <td>60.217747</td>\n",
       "      <td>49.452958</td>\n",
       "      <td>56.523261</td>\n",
       "      <td>47.175799</td>\n",
       "      <td>49.596627</td>\n",
       "      <td>22.880980</td>\n",
       "      <td>30.733742</td>\n",
       "      <td>19.160207</td>\n",
       "      <td>17.741632</td>\n",
       "      <td>16.852535</td>\n",
       "      <td>18.541088</td>\n",
       "      <td>22.053924</td>\n",
       "    </tr>\n",
       "    <tr>\n",
       "      <th>min</th>\n",
       "      <td>1.461030e+09</td>\n",
       "      <td>-200.000000</td>\n",
       "      <td>-200.000000</td>\n",
       "      <td>-200.000000</td>\n",
       "      <td>-200.000000</td>\n",
       "      <td>-200.000000</td>\n",
       "      <td>-200.000000</td>\n",
       "      <td>-200.000000</td>\n",
       "      <td>-200.000000</td>\n",
       "      <td>-200.000000</td>\n",
       "      <td>-200.000000</td>\n",
       "      <td>-200.000000</td>\n",
       "      <td>-200.000000</td>\n",
       "      <td>-200.000000</td>\n",
       "    </tr>\n",
       "    <tr>\n",
       "      <th>25%</th>\n",
       "      <td>1.464142e+09</td>\n",
       "      <td>-200.000000</td>\n",
       "      <td>-200.000000</td>\n",
       "      <td>-200.000000</td>\n",
       "      <td>-200.000000</td>\n",
       "      <td>-200.000000</td>\n",
       "      <td>-200.000000</td>\n",
       "      <td>-200.000000</td>\n",
       "      <td>-200.000000</td>\n",
       "      <td>-200.000000</td>\n",
       "      <td>-200.000000</td>\n",
       "      <td>-200.000000</td>\n",
       "      <td>-200.000000</td>\n",
       "      <td>-200.000000</td>\n",
       "    </tr>\n",
       "    <tr>\n",
       "      <th>50%</th>\n",
       "      <td>1.474690e+09</td>\n",
       "      <td>-200.000000</td>\n",
       "      <td>-200.000000</td>\n",
       "      <td>-200.000000</td>\n",
       "      <td>-200.000000</td>\n",
       "      <td>-200.000000</td>\n",
       "      <td>-200.000000</td>\n",
       "      <td>-200.000000</td>\n",
       "      <td>-200.000000</td>\n",
       "      <td>-200.000000</td>\n",
       "      <td>-200.000000</td>\n",
       "      <td>-200.000000</td>\n",
       "      <td>-200.000000</td>\n",
       "      <td>-200.000000</td>\n",
       "    </tr>\n",
       "    <tr>\n",
       "      <th>75%</th>\n",
       "      <td>1.476759e+09</td>\n",
       "      <td>-200.000000</td>\n",
       "      <td>-78.000000</td>\n",
       "      <td>-200.000000</td>\n",
       "      <td>-80.000000</td>\n",
       "      <td>-200.000000</td>\n",
       "      <td>-200.000000</td>\n",
       "      <td>-200.000000</td>\n",
       "      <td>-200.000000</td>\n",
       "      <td>-200.000000</td>\n",
       "      <td>-200.000000</td>\n",
       "      <td>-200.000000</td>\n",
       "      <td>-200.000000</td>\n",
       "      <td>-200.000000</td>\n",
       "    </tr>\n",
       "    <tr>\n",
       "      <th>max</th>\n",
       "      <td>1.476761e+09</td>\n",
       "      <td>-67.000000</td>\n",
       "      <td>-59.000000</td>\n",
       "      <td>-56.000000</td>\n",
       "      <td>-56.000000</td>\n",
       "      <td>-60.000000</td>\n",
       "      <td>-62.000000</td>\n",
       "      <td>-58.000000</td>\n",
       "      <td>-56.000000</td>\n",
       "      <td>-55.000000</td>\n",
       "      <td>-61.000000</td>\n",
       "      <td>-59.000000</td>\n",
       "      <td>-60.000000</td>\n",
       "      <td>-59.000000</td>\n",
       "    </tr>\n",
       "  </tbody>\n",
       "</table>\n",
       "</div>"
      ],
      "text/plain": [
       "               date        b3001        b3002        b3003        b3004  \\\n",
       "count  1.420000e+03  1420.000000  1420.000000  1420.000000  1420.000000   \n",
       "mean   1.470867e+09  -197.825352  -156.623944  -175.533099  -164.534507   \n",
       "std    6.710595e+06    16.259105    60.217747    49.452958    56.523261   \n",
       "min    1.461030e+09  -200.000000  -200.000000  -200.000000  -200.000000   \n",
       "25%    1.464142e+09  -200.000000  -200.000000  -200.000000  -200.000000   \n",
       "50%    1.474690e+09  -200.000000  -200.000000  -200.000000  -200.000000   \n",
       "75%    1.476759e+09  -200.000000   -78.000000  -200.000000   -80.000000   \n",
       "max    1.476761e+09   -67.000000   -59.000000   -56.000000   -56.000000   \n",
       "\n",
       "             b3005        b3006        b3007        b3008        b3009  \\\n",
       "count  1420.000000  1420.000000  1420.000000  1420.000000  1420.000000   \n",
       "mean   -178.378169  -175.063380  -195.637324  -191.970423  -197.145070   \n",
       "std      47.175799    49.596627    22.880980    30.733742    19.160207   \n",
       "min    -200.000000  -200.000000  -200.000000  -200.000000  -200.000000   \n",
       "25%    -200.000000  -200.000000  -200.000000  -200.000000  -200.000000   \n",
       "50%    -200.000000  -200.000000  -200.000000  -200.000000  -200.000000   \n",
       "75%    -200.000000  -200.000000  -200.000000  -200.000000  -200.000000   \n",
       "max     -60.000000   -62.000000   -58.000000   -56.000000   -55.000000   \n",
       "\n",
       "             b3010        b3011        b3012        b3013  \n",
       "count  1420.000000  1420.000000  1420.000000  1420.000000  \n",
       "mean   -197.442254  -197.748592  -197.233803  -196.065493  \n",
       "std      17.741632    16.852535    18.541088    22.053924  \n",
       "min    -200.000000  -200.000000  -200.000000  -200.000000  \n",
       "25%    -200.000000  -200.000000  -200.000000  -200.000000  \n",
       "50%    -200.000000  -200.000000  -200.000000  -200.000000  \n",
       "75%    -200.000000  -200.000000  -200.000000  -200.000000  \n",
       "max     -61.000000   -59.000000   -60.000000   -59.000000  "
      ]
     },
     "execution_count": 6,
     "metadata": {},
     "output_type": "execute_result"
    }
   ],
   "source": [
    "#把时间转化成时间戳\n",
    "import time\n",
    "for i in range(len(csv_data['date'])):\n",
    "    dt = csv_data.loc[i,'date']\n",
    "    timeArray = time.strptime(dt, \"%m-%d-%Y %H:%M:%S\")#Y 必须大写\n",
    "    #转换成时间戳\n",
    "    timestamp = time.mktime(timeArray)\n",
    "    csv_data.loc[i,'date']=timestamp\n",
    "csv_data.describe()"
   ]
  },
  {
   "cell_type": "code",
   "execution_count": 7,
   "metadata": {},
   "outputs": [
    {
     "name": "stdout",
     "output_type": "stream",
     "text": [
      "            date  b3001  b3002  b3003  b3004  b3005  b3006  b3007  b3008  \\\n",
      "0     1476760521   -200   -200   -200   -200   -200    -78   -200   -200   \n",
      "1     1476760519   -200   -200   -200   -200   -200    -78   -200   -200   \n",
      "2     1476760517   -200   -200   -200   -200   -200    -77   -200   -200   \n",
      "3     1476760515   -200   -200   -200   -200   -200    -77   -200   -200   \n",
      "4     1476760513   -200   -200   -200   -200   -200    -77   -200   -200   \n",
      "5     1476760511   -200   -200    -82   -200   -200   -200   -200   -200   \n",
      "6     1476760509   -200   -200    -80   -200   -200    -77   -200   -200   \n",
      "7     1476760507   -200   -200    -86   -200   -200   -200   -200   -200   \n",
      "8     1476760505   -200   -200   -200    -75   -200   -200   -200   -200   \n",
      "9     1476760503   -200   -200   -200    -75   -200   -200   -200   -200   \n",
      "10    1476760501   -200   -200   -200    -80   -200   -200   -200   -200   \n",
      "11    1476760499   -200   -200   -200    -78   -200   -200   -200   -200   \n",
      "12    1476760497   -200   -200   -200    -78   -200   -200   -200   -200   \n",
      "13    1476760495   -200   -200   -200    -78   -200   -200   -200   -200   \n",
      "14    1476760493   -200   -200   -200    -76   -200   -200   -200   -200   \n",
      "15    1476760491   -200   -200   -200    -78   -200   -200   -200   -200   \n",
      "16    1476760489   -200   -200   -200    -74   -200   -200   -200   -200   \n",
      "17    1476760487   -200   -200   -200    -76   -200   -200   -200   -200   \n",
      "18    1476760485   -200   -200   -200    -72   -200   -200   -200   -200   \n",
      "19    1476760483   -200   -200   -200    -78   -200   -200   -200   -200   \n",
      "20    1476760481   -200   -200   -200    -70   -200   -200   -200   -200   \n",
      "21    1476760479   -200   -200   -200    -69   -200   -200   -200   -200   \n",
      "22    1476760477   -200   -200   -200    -74   -200   -200   -200   -200   \n",
      "23    1476760475   -200   -200   -200    -76   -200   -200   -200   -200   \n",
      "24    1476760473   -200   -200   -200    -76   -200   -200   -200   -200   \n",
      "25    1476760471   -200   -200   -200    -73   -200   -200   -200   -200   \n",
      "26    1476760469   -200   -200   -200    -74   -200   -200   -200   -200   \n",
      "27    1476760467   -200   -200   -200    -78   -200   -200   -200   -200   \n",
      "28    1476760465   -200   -200   -200    -78   -200   -200   -200   -200   \n",
      "29    1476760463   -200   -200   -200    -77   -200   -200   -200   -200   \n",
      "...          ...    ...    ...    ...    ...    ...    ...    ...    ...   \n",
      "1390  1461030326   -200   -200   -200   -200   -200    -80   -200   -200   \n",
      "1391  1461030325   -200   -200   -200   -200   -200    -80   -200   -200   \n",
      "1392  1461030316   -200   -200   -200   -200   -200    -79   -200   -200   \n",
      "1393  1461030293   -200    -81    -78   -200   -200   -200   -200   -200   \n",
      "1394  1461030291   -200   -200    -76   -200   -200   -200   -200   -200   \n",
      "1395  1461030283   -200   -200    -79   -200   -200    -80   -200   -200   \n",
      "1396  1461030223   -200    -79   -200   -200   -200   -200   -200   -200   \n",
      "1397  1461030219   -200    -81   -200   -200   -200   -200   -200   -200   \n",
      "1398  1461030107   -200    -84   -200   -200   -200   -200   -200   -200   \n",
      "1399  1461030062   -200   -200   -200   -200   -200    -79   -200   -200   \n",
      "1400  1461029997   -200    -68   -200   -200   -200   -200   -200   -200   \n",
      "1401  1461029996   -200    -75   -200   -200   -200   -200   -200   -200   \n",
      "1402  1461029989   -200    -73   -200   -200   -200   -200   -200   -200   \n",
      "1403  1461029987   -200    -72    -80   -200   -200   -200   -200   -200   \n",
      "1404  1461029969   -200    -74   -200   -200   -200   -200   -200   -200   \n",
      "1405  1461029966   -200    -67   -200   -200   -200   -200   -200   -200   \n",
      "1406  1461029959   -200    -66   -200   -200   -200   -200   -200   -200   \n",
      "1407  1461029957   -200    -66   -200   -200   -200   -200   -200   -200   \n",
      "1408  1461029951   -200    -67   -200   -200   -200   -200   -200   -200   \n",
      "1409  1461029949   -200    -65   -200   -200   -200   -200   -200   -200   \n",
      "1410  1461029910   -200    -79   -200   -200   -200    -80   -200   -200   \n",
      "1411  1461029906   -200    -66   -200   -200   -200   -200   -200   -200   \n",
      "1412  1461029900   -200   -200   -200   -200   -200    -79   -200   -200   \n",
      "1413  1461029896   -200    -68   -200   -200   -200   -200   -200   -200   \n",
      "1414  1461029868   -200    -70   -200   -200   -200   -200   -200   -200   \n",
      "1415  1461029866   -200    -76   -200   -200   -200   -200   -200   -200   \n",
      "1416  1461029859   -200    -72   -200   -200   -200   -200   -200   -200   \n",
      "1417  1461029856   -200    -67   -200   -200   -200   -200   -200   -200   \n",
      "1418  1461029846   -200    -79   -200   -200   -200   -200   -200   -200   \n",
      "1419  1461029843   -200    -75   -200   -200   -200   -200   -200   -200   \n",
      "\n",
      "      b3009  b3010  b3011  b3012  b3013  \n",
      "0      -200   -200   -200   -200   -200  \n",
      "1      -200   -200   -200   -200   -200  \n",
      "2      -200   -200   -200   -200   -200  \n",
      "3      -200   -200   -200   -200   -200  \n",
      "4      -200   -200   -200   -200   -200  \n",
      "5      -200   -200   -200   -200   -200  \n",
      "6      -200   -200   -200   -200   -200  \n",
      "7      -200   -200   -200   -200   -200  \n",
      "8      -200   -200   -200   -200   -200  \n",
      "9      -200   -200   -200   -200   -200  \n",
      "10     -200   -200   -200   -200   -200  \n",
      "11     -200   -200   -200   -200   -200  \n",
      "12     -200   -200   -200   -200   -200  \n",
      "13     -200   -200   -200   -200   -200  \n",
      "14     -200   -200   -200   -200   -200  \n",
      "15     -200   -200   -200   -200   -200  \n",
      "16     -200   -200   -200   -200   -200  \n",
      "17     -200   -200   -200   -200   -200  \n",
      "18     -200   -200   -200   -200   -200  \n",
      "19     -200   -200   -200   -200   -200  \n",
      "20     -200   -200   -200   -200   -200  \n",
      "21     -200   -200   -200   -200   -200  \n",
      "22     -200   -200   -200   -200   -200  \n",
      "23     -200   -200   -200   -200   -200  \n",
      "24     -200   -200   -200   -200   -200  \n",
      "25     -200   -200   -200   -200   -200  \n",
      "26     -200   -200   -200   -200   -200  \n",
      "27     -200   -200   -200   -200   -200  \n",
      "28     -200   -200   -200   -200   -200  \n",
      "29     -200   -200   -200   -200   -200  \n",
      "...     ...    ...    ...    ...    ...  \n",
      "1390   -200   -200   -200   -200   -200  \n",
      "1391   -200   -200   -200   -200   -200  \n",
      "1392   -200   -200   -200   -200   -200  \n",
      "1393   -200   -200   -200   -200   -200  \n",
      "1394   -200   -200   -200   -200   -200  \n",
      "1395   -200   -200   -200   -200   -200  \n",
      "1396   -200   -200   -200   -200   -200  \n",
      "1397   -200   -200   -200   -200   -200  \n",
      "1398   -200   -200   -200   -200   -200  \n",
      "1399   -200   -200   -200   -200   -200  \n",
      "1400   -200   -200   -200   -200   -200  \n",
      "1401   -200   -200   -200   -200   -200  \n",
      "1402   -200   -200   -200   -200   -200  \n",
      "1403   -200   -200   -200   -200   -200  \n",
      "1404   -200   -200   -200   -200   -200  \n",
      "1405   -200   -200   -200   -200   -200  \n",
      "1406   -200   -200   -200   -200   -200  \n",
      "1407   -200   -200   -200   -200   -200  \n",
      "1408   -200   -200   -200   -200   -200  \n",
      "1409   -200   -200   -200   -200   -200  \n",
      "1410   -200   -200   -200   -200   -200  \n",
      "1411   -200   -200   -200   -200   -200  \n",
      "1412   -200   -200   -200   -200   -200  \n",
      "1413   -200   -200   -200   -200   -200  \n",
      "1414   -200   -200   -200   -200   -200  \n",
      "1415   -200   -200   -200   -200   -200  \n",
      "1416   -200   -200   -200   -200   -200  \n",
      "1417   -200   -200   -200   -200   -200  \n",
      "1418   -200   -200   -200   -200   -200  \n",
      "1419   -200   -200   -200   -200   -200  \n",
      "\n",
      "[1420 rows x 14 columns]\n",
      "0       O02\n",
      "1       P01\n",
      "2       P01\n",
      "3       P01\n",
      "4       P01\n",
      "5       P01\n",
      "6       P01\n",
      "7       P02\n",
      "8       R01\n",
      "9       R01\n",
      "10      R01\n",
      "11      R01\n",
      "12      R01\n",
      "13      R02\n",
      "14      R02\n",
      "15      R02\n",
      "16      R02\n",
      "17      R02\n",
      "18      R02\n",
      "19      R02\n",
      "20      R02\n",
      "21      R02\n",
      "22      S01\n",
      "23      S01\n",
      "24      S01\n",
      "25      S01\n",
      "26      S01\n",
      "27      S01\n",
      "28      S01\n",
      "29      S01\n",
      "       ... \n",
      "1390    L02\n",
      "1391    L02\n",
      "1392    L02\n",
      "1393    L01\n",
      "1394    L01\n",
      "1395    L01\n",
      "1396    K02\n",
      "1397    K02\n",
      "1398    K02\n",
      "1399    K01\n",
      "1400    J02\n",
      "1401    J02\n",
      "1402    J02\n",
      "1403    J02\n",
      "1404    I02\n",
      "1405    I02\n",
      "1406    I02\n",
      "1407    I02\n",
      "1408    I02\n",
      "1409    I02\n",
      "1410    J01\n",
      "1411    J01\n",
      "1412    J01\n",
      "1413    J01\n",
      "1414    I01\n",
      "1415    I01\n",
      "1416    I01\n",
      "1417    I01\n",
      "1418    I01\n",
      "1419    I01\n",
      "Name: location, Length: 1420, dtype: object\n"
     ]
    }
   ],
   "source": [
    "train_data = csv_data.iloc[:, 1:]\n",
    "train_target = csv_data.location\n",
    "print(train_data)\n",
    "print(train_target)"
   ]
  },
  {
   "cell_type": "code",
   "execution_count": 8,
   "metadata": {},
   "outputs": [],
   "source": [
    "x1_train, x1_test, y1_train, y1_test = train_test_split(train_data, train_target, test_size=0.3)"
   ]
  },
  {
   "cell_type": "code",
   "execution_count": 9,
   "metadata": {},
   "outputs": [
    {
     "data": {
      "text/plain": [
       "DecisionTreeClassifier(class_weight=None, criterion='gini', max_depth=None,\n",
       "            max_features=None, max_leaf_nodes=None,\n",
       "            min_impurity_decrease=0.0, min_impurity_split=None,\n",
       "            min_samples_leaf=1, min_samples_split=2,\n",
       "            min_weight_fraction_leaf=0.0, presort=False, random_state=None,\n",
       "            splitter='best')"
      ]
     },
     "execution_count": 9,
     "metadata": {},
     "output_type": "execute_result"
    }
   ],
   "source": [
    "# 决策树算法\n",
    "dt = DecisionTreeClassifier()\n",
    "dt.fit(x1_train, y1_train)"
   ]
  },
  {
   "cell_type": "code",
   "execution_count": 10,
   "metadata": {},
   "outputs": [
    {
     "name": "stdout",
     "output_type": "stream",
     "text": [
      "训练集准确率： 0.9285714285714286\n"
     ]
    }
   ],
   "source": [
    "s1_dt = dt.score(x1_train, y1_train)\n",
    "print(\"训练集准确率：\", s1_dt)"
   ]
  },
  {
   "cell_type": "code",
   "execution_count": 11,
   "metadata": {},
   "outputs": [
    {
     "name": "stdout",
     "output_type": "stream",
     "text": [
      "测试集准确率： 0.4084507042253521\n"
     ]
    }
   ],
   "source": [
    "s2_dt = dt.score(x1_test, y1_test)\n",
    "print(\"测试集准确率：\", s2_dt)"
   ]
  },
  {
   "cell_type": "code",
   "execution_count": 12,
   "metadata": {},
   "outputs": [
    {
     "data": {
      "text/plain": [
       "RandomForestClassifier(bootstrap=True, class_weight=None, criterion='gini',\n",
       "            max_depth=None, max_features='auto', max_leaf_nodes=None,\n",
       "            min_impurity_decrease=0.0, min_impurity_split=None,\n",
       "            min_samples_leaf=1, min_samples_split=2,\n",
       "            min_weight_fraction_leaf=0.0, n_estimators=20, n_jobs=None,\n",
       "            oob_score=True, random_state=None, verbose=0, warm_start=False)"
      ]
     },
     "execution_count": 12,
     "metadata": {},
     "output_type": "execute_result"
    }
   ],
   "source": [
    "# 随机森林算法\n",
    "rf = RandomForestClassifier(n_estimators = 20, oob_score = True)\n",
    "rf.fit(x1_train, y1_train)"
   ]
  },
  {
   "cell_type": "code",
   "execution_count": 13,
   "metadata": {},
   "outputs": [
    {
     "name": "stdout",
     "output_type": "stream",
     "text": [
      "训练集准确率： 0.9245472837022133\n"
     ]
    }
   ],
   "source": [
    "s1_rf = rf.score(x1_train, y1_train)\n",
    "print(\"训练集准确率：\", s1_rf)"
   ]
  },
  {
   "cell_type": "code",
   "execution_count": 14,
   "metadata": {},
   "outputs": [
    {
     "name": "stdout",
     "output_type": "stream",
     "text": [
      "测试集准确率： 0.39436619718309857\n"
     ]
    }
   ],
   "source": [
    "s2_rf = rf.score(x1_test, y1_test)\n",
    "print(\"测试集准确率：\", s2_rf)"
   ]
  },
  {
   "cell_type": "code",
   "execution_count": 15,
   "metadata": {},
   "outputs": [
    {
     "name": "stdout",
     "output_type": "stream",
     "text": [
      "训练集准确率： 0.9285714285714286\n",
      "测试集准确率： 0.43427230046948356\n"
     ]
    }
   ],
   "source": [
    "#求最高准确率\n",
    "s1_rf_ = []\n",
    "s2_rf_ = []\n",
    "for i in range(0, 50):\n",
    "    rf = RandomForestClassifier(n_estimators = 20)\n",
    "    rf.fit(x1_train, y1_train)\n",
    "    s1_rf = rf.score(x1_train, y1_train)\n",
    "    s1_rf_.append(s1_rf)\n",
    "    s2_rf = rf.score(x1_test, y1_test)\n",
    "    s2_rf_.append(s2_rf)\n",
    "print(\"训练集准确率：\", max(s1_rf_))\n",
    "print(\"测试集准确率：\", max(s2_rf_))"
   ]
  },
  {
   "cell_type": "code",
   "execution_count": 20,
   "metadata": {},
   "outputs": [
    {
     "name": "stderr",
     "output_type": "stream",
     "text": [
      "C:\\Anaconda3\\lib\\site-packages\\sklearn\\svm\\base.py:196: FutureWarning: The default value of gamma will change from 'auto' to 'scale' in version 0.22 to account better for unscaled features. Set gamma explicitly to 'auto' or 'scale' to avoid this warning.\n",
      "  \"avoid this warning.\", FutureWarning)\n"
     ]
    }
   ],
   "source": [
    "# SVM算法\n",
    "# rbf核函数，设置数据权重\n",
    "svc = SVC(kernel='rbf', class_weight='balanced')\n",
    "# 训练模型\n",
    "clf = svc.fit(x1_train, y1_train)"
   ]
  },
  {
   "cell_type": "code",
   "execution_count": 21,
   "metadata": {},
   "outputs": [
    {
     "name": "stdout",
     "output_type": "stream",
     "text": [
      "训练集准确率： 0.7173038229376257\n"
     ]
    }
   ],
   "source": [
    "s1_svc = svc.score(x1_train, y1_train)\n",
    "print(\"训练集准确率：\", s1_svc)"
   ]
  },
  {
   "cell_type": "code",
   "execution_count": 22,
   "metadata": {},
   "outputs": [
    {
     "name": "stdout",
     "output_type": "stream",
     "text": [
      "测试集准确率： 0.10093896713615023\n"
     ]
    }
   ],
   "source": [
    "s2_svc = svc.score(x1_test, y1_test)\n",
    "print(\"测试集准确率：\", s2_svc)"
   ]
  },
  {
   "cell_type": "code",
   "execution_count": 23,
   "metadata": {
    "scrolled": true
   },
   "outputs": [
    {
     "name": "stderr",
     "output_type": "stream",
     "text": [
      "C:\\Anaconda3\\lib\\site-packages\\sklearn\\model_selection\\_split.py:652: Warning: The least populated class in y has only 1 members, which is too few. The minimum number of members in any class cannot be less than n_splits=3.\n",
      "  % (min_groups, self.n_splits)), Warning)\n",
      "C:\\Anaconda3\\lib\\site-packages\\sklearn\\model_selection\\_search.py:841: DeprecationWarning: The default of the `iid` parameter will change from True to False in version 0.22 and will be removed in 0.24. This will change numeric results when test-set sizes are unequal.\n",
      "  DeprecationWarning)\n"
     ]
    },
    {
     "name": "stdout",
     "output_type": "stream",
     "text": [
      "精度为0.5727699530516432\n"
     ]
    }
   ],
   "source": [
    "# 调参优化\n",
    "import numpy as np\n",
    "from sklearn.preprocessing import StandardScaler\n",
    "from sklearn.model_selection import GridSearchCV\n",
    "svc = SVC(kernel='rbf', class_weight='balanced',)\n",
    "c_range = np.logspace(-5, 15, 11, base=2)\n",
    "gamma_range = np.logspace(-9, 3, 13, base=2)\n",
    "# 网格搜索交叉验证的参数范围，cv=3,3折交叉\n",
    "param_grid = [{'kernel': ['rbf'], 'C': c_range, 'gamma': gamma_range}]# 参数列表，表明参数范围\n",
    "grid = GridSearchCV(svc, param_grid, cv=3, n_jobs=-1)# 寻找最优参数，传递给模型\n",
    "# 训练模型\n",
    "clf = grid.fit(x1_train, y1_train)\n",
    "# 计算测试集精度\n",
    "score = grid.score(x1_test, y1_test)\n",
    "print('精度为%s' % score)"
   ]
  },
  {
   "cell_type": "code",
   "execution_count": 24,
   "metadata": {},
   "outputs": [
    {
     "name": "stdout",
     "output_type": "stream",
     "text": [
      "训练集准确率： 0.9416498993963782\n"
     ]
    }
   ],
   "source": [
    "score_train = grid.score(x1_train, y1_train)\n",
    "print(\"训练集准确率：\", score_train)"
   ]
  },
  {
   "cell_type": "code",
   "execution_count": 25,
   "metadata": {},
   "outputs": [
    {
     "name": "stdout",
     "output_type": "stream",
     "text": [
      "测试集准确率： 0.5727699530516432\n"
     ]
    }
   ],
   "source": [
    "score_test = grid.score(x1_test, y1_test)\n",
    "print(\"测试集准确率：\", score_test)"
   ]
  }
 ],
 "metadata": {
  "kernelspec": {
   "display_name": "Python 3",
   "language": "python",
   "name": "python3"
  },
  "language_info": {
   "codemirror_mode": {
    "name": "ipython",
    "version": 3
   },
   "file_extension": ".py",
   "mimetype": "text/x-python",
   "name": "python",
   "nbconvert_exporter": "python",
   "pygments_lexer": "ipython3",
   "version": "3.7.3"
  }
 },
 "nbformat": 4,
 "nbformat_minor": 2
}
